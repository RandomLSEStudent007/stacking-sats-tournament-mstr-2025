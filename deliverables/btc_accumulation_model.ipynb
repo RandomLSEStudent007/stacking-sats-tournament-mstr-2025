{
 "cells": [
  {
   "cell_type": "markdown",
   "id": "b0436084-d3e5-465e-996a-6447d6867a48",
   "metadata": {},
   "source": [
    "# Adaptive Bitcoin Accumulation Using Z-Score Signals"
   ]
  },
  {
   "cell_type": "markdown",
   "id": "5718431c-5aee-45ef-8976-4a1cbde1e6df",
   "metadata": {},
   "source": [
    "In this notebook, we present a dynamic Bitcoin accumulation strategy that adjusts daily investment weights based on a 50-day z-score. The goal is to outperform uniform DCA by investing more when Bitcoin is undervalued relative to its recent trend.\n",
    "\n",
    "Key insights from our EDA showed that price often mean-reverts after deviations from its rolling average. We use this insight to overweight low-z-score days while keeping total daily weights valid and compliant.\n",
    "\n",
    "Our final model:\n",
    "- Beat uniform DCA in **72.91% of rolling windows**\n",
    "- Achieved a **higher SPD** (satoshis-per-dollar)\n",
    "- Preserved all weight constraints\n",
    "\n",
    "We also experimented with momentum, volatility, regime classification and MACD-based models, but the z-score strategy provided the most robust and interpretable performance.\n"
   ]
  },
  {
   "cell_type": "markdown",
   "id": "609570eb-89cb-484e-8b87-d0f102d7ea95",
   "metadata": {
    "tags": []
   },
   "source": [
    "## 📊 Exploratory Data Analysis Highlights\n",
    "\n",
    "We explored the behavior of Bitcoin's price trend and volatility over time. Our key EDA findings:\n",
    "\n",
    "- Large deviations below the 50-day moving average were often followed by rebounds\n",
    "- MACD and trend slope showed momentum, but added less consistency than mean-reversion\n",
    "- Z-score values below -1.0 typically corresponded to price troughs\n",
    "\n",
    "### Example: Z-Score vs. Price\n",
    "![Z-score behavior](Z_score_behaviour.png)\n",
    "\n",
    "Full EDA:\n",
    "> [`eda_notebook.ipynb`](../eda/eda_notebook.ipynb)\n"
   ]
  },
  {
   "cell_type": "markdown",
   "id": "b73ab80d-1f91-426e-a2e0-1abbb375f96f",
   "metadata": {},
   "source": [
    "## 🧠 Model Explanation\n",
    "\n",
    "Our model uses a single feature: a 50-day z-score of Bitcoin's price.\n",
    "\n",
    "- We calculate the 50-day rolling average and standard deviation\n",
    "- The z-score is: `(rolling_mean - price) / rolling_std`\n",
    "- When z-score < 0, we boost weight proportionally to its magnitude\n",
    "- The redistribution logic ensures weights remain valid (≥ MIN_WEIGHT, sum to 1)\n",
    "\n",
    "Why it works:\n",
    "- Captures short-term undervaluation moments\n",
    "- Balances simplicity and responsiveness\n",
    "- Avoids overfitting through a single, interpretable feature\n",
    "\n",
    "We tested other strategies including:\n",
    "- MACD-based momentum\n",
    "- Regime classification (trend + volatility)\n",
    "- Quantile-based reversal strategy\n",
    "- Composite score using momentum, volatility, and z-score\n",
    "\n",
    "While all strategies passed constraints, the z-score strategy consistently showed stronger performance and clarity.\n",
    "\n",
    "🔗 Model development:\n",
    "> [`model_development_template.ipynb`](../deliverables/model_development_template.ipynb)\n"
   ]
  },
  {
   "cell_type": "markdown",
   "id": "3ed06e15-d3ed-4080-ac7e-5626b989c7cf",
   "metadata": {
    "tags": []
   },
   "source": [
    "## 🧾 Model Performance Summary\n",
    "\n",
    "Based on quantitative evaluation across multiple strategies, the **Z-score model** consistently demonstrated superior performance. With a **win rate of 72.91%** and a **model score of 73.31%**, it outperformed several alternative models:\n",
    "\n",
    "| Strategy                  | Win Rate | Model Score |\n",
    "|---------------------------|----------|--------------|\n",
    "| **Z-score**               | **72.91%** | **73.31%**   |\n",
    "| MACD-based                | 71.06%   | 51.64%       |\n",
    "| Regime Classification     | 67.67%   | 70.99%       |\n",
    "| Quantile-Based Reversal   | 76.00%   | 60.70%       |\n",
    "| Composite Score           | 68.49%   | 63.01%       |\n",
    "\n",
    "Although the Quantile-Based Reversal strategy had the highest win rate, its model score was significantly lower, suggesting less consistency and robustness. Similarly, the Composite and MACD-based models exhibited moderate success but fell short in optimizing capital efficiency over time.\n",
    "\n",
    "In contrast, the Z-score strategy not only captures undervalued periods effectively but also does so with a simple and interpretable methodology. It reallocates more capital during dips and reduces exposure during overheated markets, which aligns well with disciplined DCA principles.\n",
    "\n",
    "Compared to the MA200 benchmark model, the Z-score strategy provides greater adaptability and stability, leading to a more reliable accumulation of BTC. This combination of consistency, transparency, and superior statistical performance makes it the most compelling strategy.\n",
    "\n"
   ]
  },
  {
   "cell_type": "code",
   "execution_count": null,
   "id": "c0dc5a9a-fce2-4361-ab9a-85e48b019316",
   "metadata": {},
   "outputs": [],
   "source": []
  }
 ],
 "metadata": {
  "kernelspec": {
   "display_name": "Stacking Sats Env",
   "language": "python",
   "name": "stacking-sats-env"
  },
  "language_info": {
   "codemirror_mode": {
    "name": "ipython",
    "version": 3
   },
   "file_extension": ".py",
   "mimetype": "text/x-python",
   "name": "python",
   "nbconvert_exporter": "python",
   "pygments_lexer": "ipython3",
   "version": "3.10.18"
  }
 },
 "nbformat": 4,
 "nbformat_minor": 5
}
